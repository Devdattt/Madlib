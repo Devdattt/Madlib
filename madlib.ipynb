{
  "nbformat": 4,
  "nbformat_minor": 0,
  "metadata": {
    "colab": {
      "provenance": [],
      "authorship_tag": "ABX9TyP5nO76NeW76ec1GXnoSI++",
      "include_colab_link": true
    },
    "kernelspec": {
      "name": "python3",
      "display_name": "Python 3"
    },
    "language_info": {
      "name": "python"
    }
  },
  "cells": [
    {
      "cell_type": "markdown",
      "metadata": {
        "id": "view-in-github",
        "colab_type": "text"
      },
      "source": [
        "<a href=\"https://colab.research.google.com/github/Devdattt/Madlib/blob/main/madlib.ipynb\" target=\"_parent\"><img src=\"https://colab.research.google.com/assets/colab-badge.svg\" alt=\"Open In Colab\"/></a>"
      ]
    },
    {
      "cell_type": "markdown",
      "source": [
        "string concatenation"
      ],
      "metadata": {
        "id": "9sJGtBQTOfI7"
      }
    },
    {
      "cell_type": "code",
      "execution_count": null,
      "metadata": {
        "colab": {
          "base_uri": "https://localhost:8080/"
        },
        "id": "Tou72nM2OaDo",
        "outputId": "e262dec9-35d4-424b-bf96-dcd9f2005d36"
      },
      "outputs": [
        {
          "output_type": "stream",
          "name": "stdout",
          "text": [
            "send linkedin connection request to Devdatt Parmar\n"
          ]
        }
      ],
      "source": [
        "linkedin = 'Devdatt Parmar'\n",
        "print(f'send linkedin connection request to {linkedin}')"
      ]
    },
    {
      "cell_type": "markdown",
      "source": [
        "Madlib through Python"
      ],
      "metadata": {
        "id": "pl6rg2nHPsHY"
      }
    },
    {
      "cell_type": "code",
      "source": [
        "adj1 = input(\"Adjective :\")\n",
        "noun1 = input('Noun :')\n",
        "verb1 = input('Verb :')\n",
        "famous_person = input('famous person :')\n",
        "\n",
        "madlib = f'Python is so {adj1}! because it is widley used by {noun1}, it is summer time stay hydrated {verb1} \\\n",
        "like you are {famous_person} '\n",
        "print()\n",
        "print(madlib)"
      ],
      "metadata": {
        "collapsed": true,
        "id": "hust6ik0O7uR"
      },
      "execution_count": null,
      "outputs": []
    },
    {
      "cell_type": "code",
      "source": [
        "def madlib():\n",
        "  adj1= input('adjective 1 : ')\n",
        "  body_part = input('body part : ')\n",
        "  verb = input('verb : ')\n",
        "  adj2 = input('adjective 2 : ')\n",
        "  noun1 = input('noun : ')\n",
        "  noun_plural = input('noun plural : ')\n",
        "  adj3 = input('adjective 3 : ')\n",
        "  print()\n",
        "  madlib = f\"I love computer programming because it's {adj1}! The journey to becoming a\\\n",
        "  good programmer starts with hope in your mind and a dream in your {body_part}.\\\n",
        "  Yes, once you learn to {verb}, it becomes a part of your life identity and you can become a super {adj2} hacker.\\\n",
        "  Knowledge of programming lets you take control of your {noun1}. You can create your own personal {noun_plural},\\\n",
        "  anything from developing {adj3} software to analyzing data and making predictions about the trend.\"\n",
        "\n",
        "  print(madlib)\n",
        "\n",
        "madlib()\n"
      ],
      "metadata": {
        "id": "AjLKdpGPYxIp"
      },
      "execution_count": null,
      "outputs": []
    },
    {
      "cell_type": "code",
      "source": [
        "adj1= input('adjective 1 : ')\n",
        "body_part = input('body part : ')\n",
        "verb = input('verb : ')\n",
        "adj2 = input('adjective 2 : ')\n",
        "noun1 = input('noun : ')\n",
        "noun_plural = input('noun plural : ')\n",
        "adj3 = input('adjective 3 : ')\n",
        "\n",
        "madlib = f\"I love computer programming because it's {adj1}! The journey to becoming a\\\n",
        "  good programmer starts with hope in your mind and a dream in your {body_part}.\\\n",
        "  Yes, once you learn to {verb}, it becomes a part of your life identity and you can become a super {adj2} hacker.\\\n",
        "  Knowledge of programming lets you take control of your {noun1}. You can create your own personal {noun_plural},\\\n",
        "  anything from developing {adj3} software to analyzing data and making predictions about the trend.\"\n",
        "\n",
        "print(madlib)\n"
      ],
      "metadata": {
        "id": "9hbwjtSTbjBO"
      },
      "execution_count": null,
      "outputs": []
    }
  ]
}